{
 "cells": [
  {
   "cell_type": "code",
   "execution_count": 2,
   "metadata": {
    "id": "ysuGPAyAF7rr"
   },
   "outputs": [],
   "source": [
    "import pandas as pd\n",
    "import numpy as np\n",
    "\n",
    "\n",
    "import time, warnings\n",
    "import datetime as dt\n",
    "\n",
    "#modules for predictive models\n",
    "import sklearn.cluster as cluster\n",
    "from sklearn.cluster import KMeans\n",
    "from sklearn.decomposition import PCA\n",
    "#from sklearn.mixture import GMM\n",
    "\n",
    "from sklearn.metrics import silhouette_samples, silhouette_score\n",
    "\n",
    "#visualizations\n",
    "import matplotlib.pyplot as plt\n",
    "from pandas.plotting import scatter_matrix\n",
    "%matplotlib inline\n",
    "import seaborn as sns\n",
    "\n",
    "warnings.filterwarnings(\"ignore\")"
   ]
  },
  {
   "cell_type": "code",
   "execution_count": 3,
   "metadata": {
    "colab": {
     "base_uri": "https://localhost:8080/",
     "height": 206
    },
    "id": "4asgbwu2G1G2",
    "outputId": "78600b53-6cec-4ebd-91de-37f8f7f37c05"
   },
   "outputs": [
    {
     "data": {
      "text/html": [
       "<div>\n",
       "<style scoped>\n",
       "    .dataframe tbody tr th:only-of-type {\n",
       "        vertical-align: middle;\n",
       "    }\n",
       "\n",
       "    .dataframe tbody tr th {\n",
       "        vertical-align: top;\n",
       "    }\n",
       "\n",
       "    .dataframe thead th {\n",
       "        text-align: right;\n",
       "    }\n",
       "</style>\n",
       "<table border=\"1\" class=\"dataframe\">\n",
       "  <thead>\n",
       "    <tr style=\"text-align: right;\">\n",
       "      <th></th>\n",
       "      <th>InvoiceNo</th>\n",
       "      <th>StockCode</th>\n",
       "      <th>Description</th>\n",
       "      <th>Quantity</th>\n",
       "      <th>InvoiceDate</th>\n",
       "      <th>UnitPrice</th>\n",
       "      <th>CustomerID</th>\n",
       "      <th>Country</th>\n",
       "    </tr>\n",
       "  </thead>\n",
       "  <tbody>\n",
       "    <tr>\n",
       "      <th>0</th>\n",
       "      <td>536365</td>\n",
       "      <td>85123A</td>\n",
       "      <td>WHITE HANGING HEART T-LIGHT HOLDER</td>\n",
       "      <td>6</td>\n",
       "      <td>2010-12-01 08:26:00</td>\n",
       "      <td>2.55</td>\n",
       "      <td>17850.0</td>\n",
       "      <td>United Kingdom</td>\n",
       "    </tr>\n",
       "    <tr>\n",
       "      <th>1</th>\n",
       "      <td>536365</td>\n",
       "      <td>71053</td>\n",
       "      <td>WHITE METAL LANTERN</td>\n",
       "      <td>6</td>\n",
       "      <td>2010-12-01 08:26:00</td>\n",
       "      <td>3.39</td>\n",
       "      <td>17850.0</td>\n",
       "      <td>United Kingdom</td>\n",
       "    </tr>\n",
       "    <tr>\n",
       "      <th>2</th>\n",
       "      <td>536365</td>\n",
       "      <td>84406B</td>\n",
       "      <td>CREAM CUPID HEARTS COAT HANGER</td>\n",
       "      <td>8</td>\n",
       "      <td>2010-12-01 08:26:00</td>\n",
       "      <td>2.75</td>\n",
       "      <td>17850.0</td>\n",
       "      <td>United Kingdom</td>\n",
       "    </tr>\n",
       "    <tr>\n",
       "      <th>3</th>\n",
       "      <td>536365</td>\n",
       "      <td>84029G</td>\n",
       "      <td>KNITTED UNION FLAG HOT WATER BOTTLE</td>\n",
       "      <td>6</td>\n",
       "      <td>2010-12-01 08:26:00</td>\n",
       "      <td>3.39</td>\n",
       "      <td>17850.0</td>\n",
       "      <td>United Kingdom</td>\n",
       "    </tr>\n",
       "    <tr>\n",
       "      <th>4</th>\n",
       "      <td>536365</td>\n",
       "      <td>84029E</td>\n",
       "      <td>RED WOOLLY HOTTIE WHITE HEART.</td>\n",
       "      <td>6</td>\n",
       "      <td>2010-12-01 08:26:00</td>\n",
       "      <td>3.39</td>\n",
       "      <td>17850.0</td>\n",
       "      <td>United Kingdom</td>\n",
       "    </tr>\n",
       "  </tbody>\n",
       "</table>\n",
       "</div>"
      ],
      "text/plain": [
       "  InvoiceNo StockCode                          Description  Quantity  \\\n",
       "0    536365    85123A   WHITE HANGING HEART T-LIGHT HOLDER         6   \n",
       "1    536365     71053                  WHITE METAL LANTERN         6   \n",
       "2    536365    84406B       CREAM CUPID HEARTS COAT HANGER         8   \n",
       "3    536365    84029G  KNITTED UNION FLAG HOT WATER BOTTLE         6   \n",
       "4    536365    84029E       RED WOOLLY HOTTIE WHITE HEART.         6   \n",
       "\n",
       "          InvoiceDate  UnitPrice  CustomerID         Country  \n",
       "0 2010-12-01 08:26:00       2.55     17850.0  United Kingdom  \n",
       "1 2010-12-01 08:26:00       3.39     17850.0  United Kingdom  \n",
       "2 2010-12-01 08:26:00       2.75     17850.0  United Kingdom  \n",
       "3 2010-12-01 08:26:00       3.39     17850.0  United Kingdom  \n",
       "4 2010-12-01 08:26:00       3.39     17850.0  United Kingdom  "
      ]
     },
     "execution_count": 3,
     "metadata": {},
     "output_type": "execute_result"
    }
   ],
   "source": [
    "retail_df = pd.read_excel('C:/Users/ITQLAP/Desktop/garbage/Online Retail.xlsx')\n",
    "retail_df.head()"
   ]
  },
  {
   "cell_type": "code",
   "execution_count": 4,
   "metadata": {
    "colab": {
     "base_uri": "https://localhost:8080/"
    },
    "id": "UKqvB3VgL-Ds",
    "outputId": "58bb644d-98da-4205-9984-cb136b330ab6"
   },
   "outputs": [
    {
     "name": "stdout",
     "output_type": "stream",
     "text": [
      "<class 'pandas.core.frame.DataFrame'>\n",
      "RangeIndex: 541909 entries, 0 to 541908\n",
      "Data columns (total 8 columns):\n",
      " #   Column       Non-Null Count   Dtype         \n",
      "---  ------       --------------   -----         \n",
      " 0   InvoiceNo    541909 non-null  object        \n",
      " 1   StockCode    541909 non-null  object        \n",
      " 2   Description  540455 non-null  object        \n",
      " 3   Quantity     541909 non-null  int64         \n",
      " 4   InvoiceDate  541909 non-null  datetime64[ns]\n",
      " 5   UnitPrice    541909 non-null  float64       \n",
      " 6   CustomerID   406829 non-null  float64       \n",
      " 7   Country      541909 non-null  object        \n",
      "dtypes: datetime64[ns](1), float64(2), int64(1), object(4)\n",
      "memory usage: 33.1+ MB\n"
     ]
    }
   ],
   "source": [
    "retail_df.info()"
   ]
  },
  {
   "cell_type": "code",
   "execution_count": 5,
   "metadata": {
    "colab": {
     "base_uri": "https://localhost:8080/"
    },
    "id": "d5Dmva6xMcO3",
    "outputId": "0002c670-3ab5-49d1-c782-80bcb62bd899"
   },
   "outputs": [
    {
     "data": {
      "text/plain": [
       "InvoiceNo           0\n",
       "StockCode           0\n",
       "Description      1454\n",
       "Quantity            0\n",
       "InvoiceDate         0\n",
       "UnitPrice           0\n",
       "CustomerID     135080\n",
       "Country             0\n",
       "dtype: int64"
      ]
     },
     "execution_count": 5,
     "metadata": {},
     "output_type": "execute_result"
    }
   ],
   "source": [
    "retail_df.isnull().sum()"
   ]
  },
  {
   "cell_type": "markdown",
   "metadata": {
    "id": "ONeXbnJh62tP"
   },
   "source": [
    "As customer clusters may vary by geography, I’ll restrict the data to only United Kingdom customers, which contains most of our customers historical data."
   ]
  },
  {
   "cell_type": "code",
   "execution_count": 6,
   "metadata": {
    "colab": {
     "base_uri": "https://localhost:8080/"
    },
    "id": "5sWs6iABOyMM",
    "outputId": "f86ccff8-7862-4baf-a56b-40fe916c8b67"
   },
   "outputs": [
    {
     "data": {
      "text/plain": [
       "(495478, 8)"
      ]
     },
     "execution_count": 6,
     "metadata": {},
     "output_type": "execute_result"
    }
   ],
   "source": [
    "retail_uk = retail_df[retail_df['Country']=='United Kingdom']\n",
    "#check the shape\n",
    "retail_uk.shape"
   ]
  },
  {
   "cell_type": "code",
   "execution_count": 36,
   "metadata": {
    "colab": {
     "base_uri": "https://localhost:8080/"
    },
    "id": "_nW_vF7yvdBA",
    "outputId": "564fdb14-b329-4bdf-c0d0-fdc156466106"
   },
   "outputs": [
    {
     "data": {
      "text/plain": [
       "180"
      ]
     },
     "execution_count": 36,
     "metadata": {},
     "output_type": "execute_result"
    }
   ],
   "source": [
    "retail_uk['Quantity'].nunique()"
   ]
  },
  {
   "cell_type": "code",
   "execution_count": 8,
   "metadata": {
    "colab": {
     "base_uri": "https://localhost:8080/"
    },
    "id": "8_fU2UDfRwX1",
    "outputId": "38bd4432-a664-4257-fa27-b06390eab1e8"
   },
   "outputs": [
    {
     "data": {
      "text/plain": [
       "(486286, 8)"
      ]
     },
     "execution_count": 8,
     "metadata": {},
     "output_type": "execute_result"
    }
   ],
   "source": [
    "#remove canceled orders\n",
    "retail_uk = retail_uk[retail_uk['Quantity']>0]\n",
    "retail_uk.shape"
   ]
  },
  {
   "cell_type": "code",
   "execution_count": 9,
   "metadata": {
    "colab": {
     "base_uri": "https://localhost:8080/"
    },
    "id": "UPtiDGwBBHb1",
    "outputId": "dd022ee9-94ab-4c88-fc55-f578abaf816a"
   },
   "outputs": [
    {
     "data": {
      "text/plain": [
       "131941"
      ]
     },
     "execution_count": 9,
     "metadata": {},
     "output_type": "execute_result"
    }
   ],
   "source": [
    "retail_uk['CustomerID'].isnull().sum()"
   ]
  },
  {
   "cell_type": "code",
   "execution_count": 10,
   "metadata": {
    "colab": {
     "base_uri": "https://localhost:8080/"
    },
    "id": "CzYSoBG27gzj",
    "outputId": "f7f0f472-debd-4f60-bb3c-e87943a7af37"
   },
   "outputs": [
    {
     "data": {
      "text/plain": [
       "(354345, 8)"
      ]
     },
     "execution_count": 10,
     "metadata": {},
     "output_type": "execute_result"
    }
   ],
   "source": [
    "#remove the row where customer ID are NA\n",
    "retail_uk.dropna(subset=['CustomerID'],how='all',inplace = True)\n",
    "retail_uk.shape"
   ]
  },
  {
   "cell_type": "code",
   "execution_count": 11,
   "metadata": {
    "colab": {
     "base_uri": "https://localhost:8080/"
    },
    "id": "ERY18vkiCE-c",
    "outputId": "34a3efae-5ff6-4ade-fccf-74200191a3d8"
   },
   "outputs": [
    {
     "data": {
      "text/plain": [
       "15615"
      ]
     },
     "execution_count": 11,
     "metadata": {},
     "output_type": "execute_result"
    }
   ],
   "source": [
    "retail_uk['InvoiceDate'].nunique()"
   ]
  },
  {
   "cell_type": "code",
   "execution_count": 12,
   "metadata": {
    "colab": {
     "base_uri": "https://localhost:8080/"
    },
    "id": "WgTge8TYSHnC",
    "outputId": "00b86820-8d93-4bbb-fb1d-26b9559c4ac8"
   },
   "outputs": [
    {
     "data": {
      "text/plain": [
       "(342478, 8)"
      ]
     },
     "execution_count": 12,
     "metadata": {},
     "output_type": "execute_result"
    }
   ],
   "source": [
    "#restrict the data to one full year because it's better to use a metric per Months or Years in RFM\n",
    "retail_uk = retail_uk[retail_uk['InvoiceDate']>= \"2010-12-09\"]\n",
    "retail_uk.shape"
   ]
  },
  {
   "cell_type": "code",
   "execution_count": 13,
   "metadata": {
    "colab": {
     "base_uri": "https://localhost:8080/"
    },
    "id": "3tZldkWVSkFN",
    "outputId": "dc4819ab-1611-4e72-c288-c8be840a45b9"
   },
   "outputs": [
    {
     "name": "stdout",
     "output_type": "stream",
     "text": [
      "Summary..\n",
      "Number of transactions:  16017\n",
      "Number of products bought:  3611\n",
      "Number of customers: 3863\n",
      "Percentage of customers NA:  0.0 %\n"
     ]
    }
   ],
   "source": [
    "print(\"Summary..\")\n",
    "#exploring the unique values of each attribute\n",
    "print(\"Number of transactions: \", retail_uk['InvoiceNo'].nunique())\n",
    "print(\"Number of products bought: \",retail_uk['StockCode'].nunique())\n",
    "print(\"Number of customers:\", retail_uk['CustomerID'].nunique() )\n",
    "print(\"Percentage of customers NA: \", round(retail_uk['CustomerID'].isnull().sum() * 100 / len(retail_df),2),\"%\" )\n",
    "# "
   ]
  },
  {
   "cell_type": "markdown",
   "metadata": {
    "id": "7VDXM4oHHxKn"
   },
   "source": [
    "# RFM analysis\n",
    "\n",
    "RFM (Recency, Frequency, Monetary) analysis is a customer segmentation technique that uses past purchase behavior to divide customers into groups.\n",
    "RFM helps divide customers into various categories or clusters to identify customers who are more likely to respond to promotions and also for future personalization services.\n",
    "\n",
    "* RECENCY (R): Days since last purchase\n",
    "* FREQUENCY (F): Total number of purchases\n",
    "* MONETARY VALUE (M): Total money this customer spent.\n",
    "\n",
    "We will create those 3 customer attributes for each customer."
   ]
  },
  {
   "cell_type": "markdown",
   "metadata": {
    "id": "C0QiC1hJH-JR"
   },
   "source": [
    "# RECENCY Analysis"
   ]
  },
  {
   "cell_type": "code",
   "execution_count": 14,
   "metadata": {
    "colab": {
     "base_uri": "https://localhost:8080/"
    },
    "id": "iHICpqUHSrm2",
    "outputId": "2dba861f-1f5a-49b0-b900-a5b27d6f9d6c"
   },
   "outputs": [
    {
     "name": "stdout",
     "output_type": "stream",
     "text": [
      "First Date in Datasets :  2010-12-09 08:34:00\n",
      "Last date in Datasets :  2011-12-09 12:49:00\n"
     ]
    }
   ],
   "source": [
    "# First date and last date available in our dataset\n",
    "print('First Date in Datasets : ', retail_uk['InvoiceDate'].min())\n",
    "print('Last date in Datasets : ',retail_uk['InvoiceDate'].max())"
   ]
  },
  {
   "cell_type": "code",
   "execution_count": 15,
   "metadata": {
    "colab": {
     "base_uri": "https://localhost:8080/"
    },
    "id": "YZTPwKesSynl",
    "outputId": "5c5a606a-2b4d-43b9-88b1-d0475184f801"
   },
   "outputs": [
    {
     "name": "stdout",
     "output_type": "stream",
     "text": [
      "2011-12-09\n"
     ]
    }
   ],
   "source": [
    "now = dt.date(2011,12,9)\n",
    "print(now)"
   ]
  },
  {
   "cell_type": "code",
   "execution_count": 16,
   "metadata": {
    "id": "wcQNMjqRS273"
   },
   "outputs": [],
   "source": [
    "#create a new column called date which contains the date of invoice only\n",
    "retail_uk['date'] = retail_uk['InvoiceDate'].dt.date"
   ]
  },
  {
   "cell_type": "code",
   "execution_count": 17,
   "metadata": {
    "colab": {
     "base_uri": "https://localhost:8080/",
     "height": 206
    },
    "id": "1mungUm-S9W-",
    "outputId": "dadd0557-2b6d-4668-d8fa-cfba45aaac1c"
   },
   "outputs": [
    {
     "data": {
      "text/html": [
       "<div>\n",
       "<style scoped>\n",
       "    .dataframe tbody tr th:only-of-type {\n",
       "        vertical-align: middle;\n",
       "    }\n",
       "\n",
       "    .dataframe tbody tr th {\n",
       "        vertical-align: top;\n",
       "    }\n",
       "\n",
       "    .dataframe thead th {\n",
       "        text-align: right;\n",
       "    }\n",
       "</style>\n",
       "<table border=\"1\" class=\"dataframe\">\n",
       "  <thead>\n",
       "    <tr style=\"text-align: right;\">\n",
       "      <th></th>\n",
       "      <th>InvoiceNo</th>\n",
       "      <th>StockCode</th>\n",
       "      <th>Description</th>\n",
       "      <th>Quantity</th>\n",
       "      <th>InvoiceDate</th>\n",
       "      <th>UnitPrice</th>\n",
       "      <th>CustomerID</th>\n",
       "      <th>Country</th>\n",
       "      <th>date</th>\n",
       "    </tr>\n",
       "  </thead>\n",
       "  <tbody>\n",
       "    <tr>\n",
       "      <th>19632</th>\n",
       "      <td>537879</td>\n",
       "      <td>22114</td>\n",
       "      <td>HOT WATER BOTTLE TEA AND SYMPATHY</td>\n",
       "      <td>12</td>\n",
       "      <td>2010-12-09 08:34:00</td>\n",
       "      <td>3.95</td>\n",
       "      <td>14243.0</td>\n",
       "      <td>United Kingdom</td>\n",
       "      <td>2010-12-09</td>\n",
       "    </tr>\n",
       "    <tr>\n",
       "      <th>19633</th>\n",
       "      <td>537879</td>\n",
       "      <td>22835</td>\n",
       "      <td>HOT WATER BOTTLE I AM SO POORLY</td>\n",
       "      <td>8</td>\n",
       "      <td>2010-12-09 08:34:00</td>\n",
       "      <td>4.65</td>\n",
       "      <td>14243.0</td>\n",
       "      <td>United Kingdom</td>\n",
       "      <td>2010-12-09</td>\n",
       "    </tr>\n",
       "    <tr>\n",
       "      <th>19634</th>\n",
       "      <td>537879</td>\n",
       "      <td>85150</td>\n",
       "      <td>LADIES &amp; GENTLEMEN METAL SIGN</td>\n",
       "      <td>6</td>\n",
       "      <td>2010-12-09 08:34:00</td>\n",
       "      <td>2.55</td>\n",
       "      <td>14243.0</td>\n",
       "      <td>United Kingdom</td>\n",
       "      <td>2010-12-09</td>\n",
       "    </tr>\n",
       "    <tr>\n",
       "      <th>19635</th>\n",
       "      <td>537879</td>\n",
       "      <td>85048</td>\n",
       "      <td>15CM CHRISTMAS GLASS BALL 20 LIGHTS</td>\n",
       "      <td>4</td>\n",
       "      <td>2010-12-09 08:34:00</td>\n",
       "      <td>7.95</td>\n",
       "      <td>14243.0</td>\n",
       "      <td>United Kingdom</td>\n",
       "      <td>2010-12-09</td>\n",
       "    </tr>\n",
       "    <tr>\n",
       "      <th>19636</th>\n",
       "      <td>537879</td>\n",
       "      <td>21524</td>\n",
       "      <td>DOORMAT SPOTTY HOME SWEET HOME</td>\n",
       "      <td>2</td>\n",
       "      <td>2010-12-09 08:34:00</td>\n",
       "      <td>7.95</td>\n",
       "      <td>14243.0</td>\n",
       "      <td>United Kingdom</td>\n",
       "      <td>2010-12-09</td>\n",
       "    </tr>\n",
       "  </tbody>\n",
       "</table>\n",
       "</div>"
      ],
      "text/plain": [
       "      InvoiceNo StockCode                          Description  Quantity  \\\n",
       "19632    537879     22114    HOT WATER BOTTLE TEA AND SYMPATHY        12   \n",
       "19633    537879     22835      HOT WATER BOTTLE I AM SO POORLY         8   \n",
       "19634    537879     85150        LADIES & GENTLEMEN METAL SIGN         6   \n",
       "19635    537879     85048  15CM CHRISTMAS GLASS BALL 20 LIGHTS         4   \n",
       "19636    537879     21524       DOORMAT SPOTTY HOME SWEET HOME         2   \n",
       "\n",
       "              InvoiceDate  UnitPrice  CustomerID         Country        date  \n",
       "19632 2010-12-09 08:34:00       3.95     14243.0  United Kingdom  2010-12-09  \n",
       "19633 2010-12-09 08:34:00       4.65     14243.0  United Kingdom  2010-12-09  \n",
       "19634 2010-12-09 08:34:00       2.55     14243.0  United Kingdom  2010-12-09  \n",
       "19635 2010-12-09 08:34:00       7.95     14243.0  United Kingdom  2010-12-09  \n",
       "19636 2010-12-09 08:34:00       7.95     14243.0  United Kingdom  2010-12-09  "
      ]
     },
     "execution_count": 17,
     "metadata": {},
     "output_type": "execute_result"
    }
   ],
   "source": [
    "retail_uk.head()"
   ]
  },
  {
   "cell_type": "code",
   "execution_count": 18,
   "metadata": {
    "colab": {
     "base_uri": "https://localhost:8080/",
     "height": 206
    },
    "id": "JzB8lCKtTADo",
    "outputId": "8aea53d4-adad-4be7-c0ef-f84e521b4194"
   },
   "outputs": [
    {
     "data": {
      "text/html": [
       "<div>\n",
       "<style scoped>\n",
       "    .dataframe tbody tr th:only-of-type {\n",
       "        vertical-align: middle;\n",
       "    }\n",
       "\n",
       "    .dataframe tbody tr th {\n",
       "        vertical-align: top;\n",
       "    }\n",
       "\n",
       "    .dataframe thead th {\n",
       "        text-align: right;\n",
       "    }\n",
       "</style>\n",
       "<table border=\"1\" class=\"dataframe\">\n",
       "  <thead>\n",
       "    <tr style=\"text-align: right;\">\n",
       "      <th></th>\n",
       "      <th>CustomerID</th>\n",
       "      <th>LastPurshaceDate</th>\n",
       "    </tr>\n",
       "  </thead>\n",
       "  <tbody>\n",
       "    <tr>\n",
       "      <th>3858</th>\n",
       "      <td>18280.0</td>\n",
       "      <td>2011-03-07</td>\n",
       "    </tr>\n",
       "    <tr>\n",
       "      <th>3859</th>\n",
       "      <td>18281.0</td>\n",
       "      <td>2011-06-12</td>\n",
       "    </tr>\n",
       "    <tr>\n",
       "      <th>3860</th>\n",
       "      <td>18282.0</td>\n",
       "      <td>2011-12-02</td>\n",
       "    </tr>\n",
       "    <tr>\n",
       "      <th>3861</th>\n",
       "      <td>18283.0</td>\n",
       "      <td>2011-12-06</td>\n",
       "    </tr>\n",
       "    <tr>\n",
       "      <th>3862</th>\n",
       "      <td>18287.0</td>\n",
       "      <td>2011-10-28</td>\n",
       "    </tr>\n",
       "  </tbody>\n",
       "</table>\n",
       "</div>"
      ],
      "text/plain": [
       "      CustomerID LastPurshaceDate\n",
       "3858     18280.0       2011-03-07\n",
       "3859     18281.0       2011-06-12\n",
       "3860     18282.0       2011-12-02\n",
       "3861     18283.0       2011-12-06\n",
       "3862     18287.0       2011-10-28"
      ]
     },
     "execution_count": 18,
     "metadata": {},
     "output_type": "execute_result"
    }
   ],
   "source": [
    "#group by customers and check last date of purshace\n",
    "recency_df = retail_uk.groupby(by='CustomerID', as_index=False)['date'].max()\n",
    "recency_df.columns = ['CustomerID','LastPurshaceDate']\n",
    "recency_df.tail()"
   ]
  },
  {
   "cell_type": "code",
   "execution_count": 19,
   "metadata": {
    "id": "JUCRqo-tTHwY"
   },
   "outputs": [],
   "source": [
    "#calculate recency\n",
    "recency_df['Recency'] = recency_df['LastPurshaceDate'].apply(lambda x: (now - x).days)"
   ]
  },
  {
   "cell_type": "code",
   "execution_count": 20,
   "metadata": {
    "colab": {
     "base_uri": "https://localhost:8080/",
     "height": 206
    },
    "id": "fMyWLgjuTMMr",
    "outputId": "5b1ff458-de53-44a4-c90b-e59cb042d216"
   },
   "outputs": [
    {
     "data": {
      "text/html": [
       "<div>\n",
       "<style scoped>\n",
       "    .dataframe tbody tr th:only-of-type {\n",
       "        vertical-align: middle;\n",
       "    }\n",
       "\n",
       "    .dataframe tbody tr th {\n",
       "        vertical-align: top;\n",
       "    }\n",
       "\n",
       "    .dataframe thead th {\n",
       "        text-align: right;\n",
       "    }\n",
       "</style>\n",
       "<table border=\"1\" class=\"dataframe\">\n",
       "  <thead>\n",
       "    <tr style=\"text-align: right;\">\n",
       "      <th></th>\n",
       "      <th>CustomerID</th>\n",
       "      <th>LastPurshaceDate</th>\n",
       "      <th>Recency</th>\n",
       "    </tr>\n",
       "  </thead>\n",
       "  <tbody>\n",
       "    <tr>\n",
       "      <th>0</th>\n",
       "      <td>12346.0</td>\n",
       "      <td>2011-01-18</td>\n",
       "      <td>325</td>\n",
       "    </tr>\n",
       "    <tr>\n",
       "      <th>1</th>\n",
       "      <td>12747.0</td>\n",
       "      <td>2011-12-07</td>\n",
       "      <td>2</td>\n",
       "    </tr>\n",
       "    <tr>\n",
       "      <th>2</th>\n",
       "      <td>12748.0</td>\n",
       "      <td>2011-12-09</td>\n",
       "      <td>0</td>\n",
       "    </tr>\n",
       "    <tr>\n",
       "      <th>3</th>\n",
       "      <td>12749.0</td>\n",
       "      <td>2011-12-06</td>\n",
       "      <td>3</td>\n",
       "    </tr>\n",
       "    <tr>\n",
       "      <th>4</th>\n",
       "      <td>12820.0</td>\n",
       "      <td>2011-12-06</td>\n",
       "      <td>3</td>\n",
       "    </tr>\n",
       "  </tbody>\n",
       "</table>\n",
       "</div>"
      ],
      "text/plain": [
       "   CustomerID LastPurshaceDate  Recency\n",
       "0     12346.0       2011-01-18      325\n",
       "1     12747.0       2011-12-07        2\n",
       "2     12748.0       2011-12-09        0\n",
       "3     12749.0       2011-12-06        3\n",
       "4     12820.0       2011-12-06        3"
      ]
     },
     "execution_count": 20,
     "metadata": {},
     "output_type": "execute_result"
    }
   ],
   "source": [
    "recency_df.head()"
   ]
  },
  {
   "cell_type": "code",
   "execution_count": 21,
   "metadata": {
    "id": "C1hnyHX7TOKT"
   },
   "outputs": [],
   "source": [
    "#drop LastPurchaseDate as we don't need it anymore\n",
    "recency_df.drop('LastPurshaceDate',axis=1,inplace=True)"
   ]
  },
  {
   "cell_type": "markdown",
   "metadata": {
    "id": "gBH9LpdMwovv"
   },
   "source": [
    "Now we have the recency attribute created. e.g: Customer with ID = 12346 did his/her last purshace 325 days ago."
   ]
  },
  {
   "cell_type": "markdown",
   "metadata": {
    "id": "ELM9GIHmwwHu"
   },
   "source": [
    "# Frequency"
   ]
  },
  {
   "cell_type": "code",
   "execution_count": 22,
   "metadata": {
    "colab": {
     "base_uri": "https://localhost:8080/",
     "height": 206
    },
    "id": "YbNxot7fyN0K",
    "outputId": "a6583bc0-893c-4203-803a-0e7bd5fda334"
   },
   "outputs": [
    {
     "data": {
      "text/html": [
       "<div>\n",
       "<style scoped>\n",
       "    .dataframe tbody tr th:only-of-type {\n",
       "        vertical-align: middle;\n",
       "    }\n",
       "\n",
       "    .dataframe tbody tr th {\n",
       "        vertical-align: top;\n",
       "    }\n",
       "\n",
       "    .dataframe thead th {\n",
       "        text-align: right;\n",
       "    }\n",
       "</style>\n",
       "<table border=\"1\" class=\"dataframe\">\n",
       "  <thead>\n",
       "    <tr style=\"text-align: right;\">\n",
       "      <th></th>\n",
       "      <th>InvoiceNo</th>\n",
       "      <th>StockCode</th>\n",
       "      <th>Description</th>\n",
       "      <th>Quantity</th>\n",
       "      <th>InvoiceDate</th>\n",
       "      <th>UnitPrice</th>\n",
       "      <th>CustomerID</th>\n",
       "      <th>Country</th>\n",
       "      <th>date</th>\n",
       "    </tr>\n",
       "  </thead>\n",
       "  <tbody>\n",
       "    <tr>\n",
       "      <th>19632</th>\n",
       "      <td>537879</td>\n",
       "      <td>22114</td>\n",
       "      <td>HOT WATER BOTTLE TEA AND SYMPATHY</td>\n",
       "      <td>12</td>\n",
       "      <td>2010-12-09 08:34:00</td>\n",
       "      <td>3.95</td>\n",
       "      <td>14243.0</td>\n",
       "      <td>United Kingdom</td>\n",
       "      <td>2010-12-09</td>\n",
       "    </tr>\n",
       "    <tr>\n",
       "      <th>19633</th>\n",
       "      <td>537879</td>\n",
       "      <td>22835</td>\n",
       "      <td>HOT WATER BOTTLE I AM SO POORLY</td>\n",
       "      <td>8</td>\n",
       "      <td>2010-12-09 08:34:00</td>\n",
       "      <td>4.65</td>\n",
       "      <td>14243.0</td>\n",
       "      <td>United Kingdom</td>\n",
       "      <td>2010-12-09</td>\n",
       "    </tr>\n",
       "    <tr>\n",
       "      <th>19634</th>\n",
       "      <td>537879</td>\n",
       "      <td>85150</td>\n",
       "      <td>LADIES &amp; GENTLEMEN METAL SIGN</td>\n",
       "      <td>6</td>\n",
       "      <td>2010-12-09 08:34:00</td>\n",
       "      <td>2.55</td>\n",
       "      <td>14243.0</td>\n",
       "      <td>United Kingdom</td>\n",
       "      <td>2010-12-09</td>\n",
       "    </tr>\n",
       "    <tr>\n",
       "      <th>19635</th>\n",
       "      <td>537879</td>\n",
       "      <td>85048</td>\n",
       "      <td>15CM CHRISTMAS GLASS BALL 20 LIGHTS</td>\n",
       "      <td>4</td>\n",
       "      <td>2010-12-09 08:34:00</td>\n",
       "      <td>7.95</td>\n",
       "      <td>14243.0</td>\n",
       "      <td>United Kingdom</td>\n",
       "      <td>2010-12-09</td>\n",
       "    </tr>\n",
       "    <tr>\n",
       "      <th>19636</th>\n",
       "      <td>537879</td>\n",
       "      <td>21524</td>\n",
       "      <td>DOORMAT SPOTTY HOME SWEET HOME</td>\n",
       "      <td>2</td>\n",
       "      <td>2010-12-09 08:34:00</td>\n",
       "      <td>7.95</td>\n",
       "      <td>14243.0</td>\n",
       "      <td>United Kingdom</td>\n",
       "      <td>2010-12-09</td>\n",
       "    </tr>\n",
       "  </tbody>\n",
       "</table>\n",
       "</div>"
      ],
      "text/plain": [
       "      InvoiceNo StockCode                          Description  Quantity  \\\n",
       "19632    537879     22114    HOT WATER BOTTLE TEA AND SYMPATHY        12   \n",
       "19633    537879     22835      HOT WATER BOTTLE I AM SO POORLY         8   \n",
       "19634    537879     85150        LADIES & GENTLEMEN METAL SIGN         6   \n",
       "19635    537879     85048  15CM CHRISTMAS GLASS BALL 20 LIGHTS         4   \n",
       "19636    537879     21524       DOORMAT SPOTTY HOME SWEET HOME         2   \n",
       "\n",
       "              InvoiceDate  UnitPrice  CustomerID         Country        date  \n",
       "19632 2010-12-09 08:34:00       3.95     14243.0  United Kingdom  2010-12-09  \n",
       "19633 2010-12-09 08:34:00       4.65     14243.0  United Kingdom  2010-12-09  \n",
       "19634 2010-12-09 08:34:00       2.55     14243.0  United Kingdom  2010-12-09  \n",
       "19635 2010-12-09 08:34:00       7.95     14243.0  United Kingdom  2010-12-09  \n",
       "19636 2010-12-09 08:34:00       7.95     14243.0  United Kingdom  2010-12-09  "
      ]
     },
     "execution_count": 22,
     "metadata": {},
     "output_type": "execute_result"
    }
   ],
   "source": [
    "# copy the data\n",
    "retail_uk_copy = retail_uk\n",
    "retail_uk_copy.head()"
   ]
  },
  {
   "cell_type": "code",
   "execution_count": 23,
   "metadata": {
    "colab": {
     "base_uri": "https://localhost:8080/",
     "height": 206
    },
    "id": "lmxyj3hnT5YX",
    "outputId": "711c3b3f-ee36-4133-f235-5a18278c76e4"
   },
   "outputs": [
    {
     "data": {
      "text/html": [
       "<div>\n",
       "<style scoped>\n",
       "    .dataframe tbody tr th:only-of-type {\n",
       "        vertical-align: middle;\n",
       "    }\n",
       "\n",
       "    .dataframe tbody tr th {\n",
       "        vertical-align: top;\n",
       "    }\n",
       "\n",
       "    .dataframe thead th {\n",
       "        text-align: right;\n",
       "    }\n",
       "</style>\n",
       "<table border=\"1\" class=\"dataframe\">\n",
       "  <thead>\n",
       "    <tr style=\"text-align: right;\">\n",
       "      <th></th>\n",
       "      <th>CustomerID</th>\n",
       "      <th>Frequency</th>\n",
       "    </tr>\n",
       "  </thead>\n",
       "  <tbody>\n",
       "    <tr>\n",
       "      <th>0</th>\n",
       "      <td>12346.0</td>\n",
       "      <td>1</td>\n",
       "    </tr>\n",
       "    <tr>\n",
       "      <th>1</th>\n",
       "      <td>12747.0</td>\n",
       "      <td>10</td>\n",
       "    </tr>\n",
       "    <tr>\n",
       "      <th>2</th>\n",
       "      <td>12748.0</td>\n",
       "      <td>196</td>\n",
       "    </tr>\n",
       "    <tr>\n",
       "      <th>3</th>\n",
       "      <td>12749.0</td>\n",
       "      <td>5</td>\n",
       "    </tr>\n",
       "    <tr>\n",
       "      <th>4</th>\n",
       "      <td>12820.0</td>\n",
       "      <td>4</td>\n",
       "    </tr>\n",
       "  </tbody>\n",
       "</table>\n",
       "</div>"
      ],
      "text/plain": [
       "   CustomerID  Frequency\n",
       "0     12346.0          1\n",
       "1     12747.0         10\n",
       "2     12748.0        196\n",
       "3     12749.0          5\n",
       "4     12820.0          4"
      ]
     },
     "execution_count": 23,
     "metadata": {},
     "output_type": "execute_result"
    }
   ],
   "source": [
    "# drop duplicates\n",
    "retail_uk_copy.drop_duplicates(subset=['InvoiceNo', 'CustomerID'], keep=\"first\", inplace=True)\n",
    "\n",
    "#calculate frequency of purchases\n",
    "frequency_df = retail_uk_copy.groupby(by=['CustomerID'], as_index=False)['InvoiceNo'].count()\n",
    "frequency_df.columns = ['CustomerID','Frequency']\n",
    "frequency_df.head()"
   ]
  },
  {
   "cell_type": "markdown",
   "metadata": {
    "id": "dq_jqPXL1qB4"
   },
   "source": [
    "# Monetary\n",
    "\n",
    "Monetary attribute answers the question: How much money did the customer spent over time?\n",
    "\n",
    "To do that, first, we will create a new column total cost to have the total price per invoice."
   ]
  },
  {
   "cell_type": "code",
   "execution_count": 24,
   "metadata": {
    "colab": {
     "base_uri": "https://localhost:8080/"
    },
    "id": "k9UyN2Ri2Et1",
    "outputId": "f014de0b-660d-4dea-a2a7-b06579171a07"
   },
   "outputs": [
    {
     "data": {
      "text/plain": [
       "Index(['InvoiceNo', 'StockCode', 'Description', 'Quantity', 'InvoiceDate',\n",
       "       'UnitPrice', 'CustomerID', 'Country', 'date'],\n",
       "      dtype='object')"
      ]
     },
     "execution_count": 24,
     "metadata": {},
     "output_type": "execute_result"
    }
   ],
   "source": [
    "retail_uk.columns"
   ]
  },
  {
   "cell_type": "code",
   "execution_count": 25,
   "metadata": {
    "colab": {
     "base_uri": "https://localhost:8080/",
     "height": 206
    },
    "id": "zvPEXAMDT8xO",
    "outputId": "dda9443b-f095-402b-f6dc-a022aff7880b"
   },
   "outputs": [
    {
     "data": {
      "text/html": [
       "<div>\n",
       "<style scoped>\n",
       "    .dataframe tbody tr th:only-of-type {\n",
       "        vertical-align: middle;\n",
       "    }\n",
       "\n",
       "    .dataframe tbody tr th {\n",
       "        vertical-align: top;\n",
       "    }\n",
       "\n",
       "    .dataframe thead th {\n",
       "        text-align: right;\n",
       "    }\n",
       "</style>\n",
       "<table border=\"1\" class=\"dataframe\">\n",
       "  <thead>\n",
       "    <tr style=\"text-align: right;\">\n",
       "      <th></th>\n",
       "      <th>InvoiceNo</th>\n",
       "      <th>StockCode</th>\n",
       "      <th>Description</th>\n",
       "      <th>Quantity</th>\n",
       "      <th>InvoiceDate</th>\n",
       "      <th>UnitPrice</th>\n",
       "      <th>CustomerID</th>\n",
       "      <th>Country</th>\n",
       "      <th>date</th>\n",
       "      <th>TotalCost</th>\n",
       "    </tr>\n",
       "  </thead>\n",
       "  <tbody>\n",
       "    <tr>\n",
       "      <th>19632</th>\n",
       "      <td>537879</td>\n",
       "      <td>22114</td>\n",
       "      <td>HOT WATER BOTTLE TEA AND SYMPATHY</td>\n",
       "      <td>12</td>\n",
       "      <td>2010-12-09 08:34:00</td>\n",
       "      <td>3.95</td>\n",
       "      <td>14243.0</td>\n",
       "      <td>United Kingdom</td>\n",
       "      <td>2010-12-09</td>\n",
       "      <td>47.4</td>\n",
       "    </tr>\n",
       "    <tr>\n",
       "      <th>19640</th>\n",
       "      <td>537880</td>\n",
       "      <td>21669</td>\n",
       "      <td>BLUE STRIPE CERAMIC DRAWER KNOB</td>\n",
       "      <td>12</td>\n",
       "      <td>2010-12-09 09:14:00</td>\n",
       "      <td>1.25</td>\n",
       "      <td>12963.0</td>\n",
       "      <td>United Kingdom</td>\n",
       "      <td>2010-12-09</td>\n",
       "      <td>15.0</td>\n",
       "    </tr>\n",
       "    <tr>\n",
       "      <th>19656</th>\n",
       "      <td>537881</td>\n",
       "      <td>22730</td>\n",
       "      <td>ALARM CLOCK BAKELIKE IVORY</td>\n",
       "      <td>16</td>\n",
       "      <td>2010-12-09 09:23:00</td>\n",
       "      <td>3.75</td>\n",
       "      <td>15513.0</td>\n",
       "      <td>United Kingdom</td>\n",
       "      <td>2010-12-09</td>\n",
       "      <td>60.0</td>\n",
       "    </tr>\n",
       "    <tr>\n",
       "      <th>19668</th>\n",
       "      <td>537882</td>\n",
       "      <td>22804</td>\n",
       "      <td>CANDLEHOLDER PINK HANGING HEART</td>\n",
       "      <td>32</td>\n",
       "      <td>2010-12-09 09:25:00</td>\n",
       "      <td>2.55</td>\n",
       "      <td>15079.0</td>\n",
       "      <td>United Kingdom</td>\n",
       "      <td>2010-12-09</td>\n",
       "      <td>81.6</td>\n",
       "    </tr>\n",
       "    <tr>\n",
       "      <th>19672</th>\n",
       "      <td>537883</td>\n",
       "      <td>84946</td>\n",
       "      <td>ANTIQUE SILVER TEA GLASS ETCHED</td>\n",
       "      <td>12</td>\n",
       "      <td>2010-12-09 09:27:00</td>\n",
       "      <td>1.25</td>\n",
       "      <td>14437.0</td>\n",
       "      <td>United Kingdom</td>\n",
       "      <td>2010-12-09</td>\n",
       "      <td>15.0</td>\n",
       "    </tr>\n",
       "  </tbody>\n",
       "</table>\n",
       "</div>"
      ],
      "text/plain": [
       "      InvoiceNo StockCode                        Description  Quantity  \\\n",
       "19632    537879     22114  HOT WATER BOTTLE TEA AND SYMPATHY        12   \n",
       "19640    537880     21669    BLUE STRIPE CERAMIC DRAWER KNOB        12   \n",
       "19656    537881     22730         ALARM CLOCK BAKELIKE IVORY        16   \n",
       "19668    537882     22804    CANDLEHOLDER PINK HANGING HEART        32   \n",
       "19672    537883     84946    ANTIQUE SILVER TEA GLASS ETCHED        12   \n",
       "\n",
       "              InvoiceDate  UnitPrice  CustomerID         Country        date  \\\n",
       "19632 2010-12-09 08:34:00       3.95     14243.0  United Kingdom  2010-12-09   \n",
       "19640 2010-12-09 09:14:00       1.25     12963.0  United Kingdom  2010-12-09   \n",
       "19656 2010-12-09 09:23:00       3.75     15513.0  United Kingdom  2010-12-09   \n",
       "19668 2010-12-09 09:25:00       2.55     15079.0  United Kingdom  2010-12-09   \n",
       "19672 2010-12-09 09:27:00       1.25     14437.0  United Kingdom  2010-12-09   \n",
       "\n",
       "       TotalCost  \n",
       "19632       47.4  \n",
       "19640       15.0  \n",
       "19656       60.0  \n",
       "19668       81.6  \n",
       "19672       15.0  "
      ]
     },
     "execution_count": 25,
     "metadata": {},
     "output_type": "execute_result"
    }
   ],
   "source": [
    "# Create a column with total cost\n",
    "retail_uk['TotalCost']  = retail_uk['Quantity']*retail_uk['UnitPrice']\n",
    "retail_uk.head()"
   ]
  },
  {
   "cell_type": "code",
   "execution_count": 26,
   "metadata": {
    "colab": {
     "base_uri": "https://localhost:8080/",
     "height": 238
    },
    "id": "GoY6uBfD2bi5",
    "outputId": "f0b0bb82-38da-47b4-9187-b831d6ba676d"
   },
   "outputs": [
    {
     "data": {
      "text/html": [
       "<div>\n",
       "<style scoped>\n",
       "    .dataframe tbody tr th:only-of-type {\n",
       "        vertical-align: middle;\n",
       "    }\n",
       "\n",
       "    .dataframe tbody tr th {\n",
       "        vertical-align: top;\n",
       "    }\n",
       "\n",
       "    .dataframe thead th {\n",
       "        text-align: right;\n",
       "    }\n",
       "</style>\n",
       "<table border=\"1\" class=\"dataframe\">\n",
       "  <thead>\n",
       "    <tr style=\"text-align: right;\">\n",
       "      <th></th>\n",
       "      <th>TotalCost</th>\n",
       "    </tr>\n",
       "    <tr>\n",
       "      <th>CustomerID</th>\n",
       "      <th></th>\n",
       "    </tr>\n",
       "  </thead>\n",
       "  <tbody>\n",
       "    <tr>\n",
       "      <th>12346.0</th>\n",
       "      <td>77183.60</td>\n",
       "    </tr>\n",
       "    <tr>\n",
       "      <th>12747.0</th>\n",
       "      <td>658.89</td>\n",
       "    </tr>\n",
       "    <tr>\n",
       "      <th>12748.0</th>\n",
       "      <td>3739.23</td>\n",
       "    </tr>\n",
       "    <tr>\n",
       "      <th>12749.0</th>\n",
       "      <td>98.35</td>\n",
       "    </tr>\n",
       "    <tr>\n",
       "      <th>12820.0</th>\n",
       "      <td>58.20</td>\n",
       "    </tr>\n",
       "  </tbody>\n",
       "</table>\n",
       "</div>"
      ],
      "text/plain": [
       "            TotalCost\n",
       "CustomerID           \n",
       "12346.0      77183.60\n",
       "12747.0        658.89\n",
       "12748.0       3739.23\n",
       "12749.0         98.35\n",
       "12820.0         58.20"
      ]
     },
     "execution_count": 26,
     "metadata": {},
     "output_type": "execute_result"
    }
   ],
   "source": [
    "# groupby cusomer id with total cost\n",
    "monetary_df = retail_uk.groupby(by='CustomerID').agg({'TotalCost':'sum'})\n",
    "monetary_df.head()"
   ]
  },
  {
   "cell_type": "code",
   "execution_count": 27,
   "metadata": {
    "colab": {
     "base_uri": "https://localhost:8080/",
     "height": 206
    },
    "id": "fgp4j3VI3pBK",
    "outputId": "85c658f5-5069-4f79-8229-5084bacea503"
   },
   "outputs": [
    {
     "data": {
      "text/html": [
       "<div>\n",
       "<style scoped>\n",
       "    .dataframe tbody tr th:only-of-type {\n",
       "        vertical-align: middle;\n",
       "    }\n",
       "\n",
       "    .dataframe tbody tr th {\n",
       "        vertical-align: top;\n",
       "    }\n",
       "\n",
       "    .dataframe thead th {\n",
       "        text-align: right;\n",
       "    }\n",
       "</style>\n",
       "<table border=\"1\" class=\"dataframe\">\n",
       "  <thead>\n",
       "    <tr style=\"text-align: right;\">\n",
       "      <th></th>\n",
       "      <th>CustomerID</th>\n",
       "      <th>Monetary</th>\n",
       "    </tr>\n",
       "  </thead>\n",
       "  <tbody>\n",
       "    <tr>\n",
       "      <th>0</th>\n",
       "      <td>12346.0</td>\n",
       "      <td>77183.60</td>\n",
       "    </tr>\n",
       "    <tr>\n",
       "      <th>1</th>\n",
       "      <td>12747.0</td>\n",
       "      <td>658.89</td>\n",
       "    </tr>\n",
       "    <tr>\n",
       "      <th>2</th>\n",
       "      <td>12748.0</td>\n",
       "      <td>3739.23</td>\n",
       "    </tr>\n",
       "    <tr>\n",
       "      <th>3</th>\n",
       "      <td>12749.0</td>\n",
       "      <td>98.35</td>\n",
       "    </tr>\n",
       "    <tr>\n",
       "      <th>4</th>\n",
       "      <td>12820.0</td>\n",
       "      <td>58.20</td>\n",
       "    </tr>\n",
       "  </tbody>\n",
       "</table>\n",
       "</div>"
      ],
      "text/plain": [
       "   CustomerID  Monetary\n",
       "0     12346.0  77183.60\n",
       "1     12747.0    658.89\n",
       "2     12748.0   3739.23\n",
       "3     12749.0     98.35\n",
       "4     12820.0     58.20"
      ]
     },
     "execution_count": 27,
     "metadata": {},
     "output_type": "execute_result"
    }
   ],
   "source": [
    "# using of as_index=False parameters\n",
    "monetary_df = retail_uk.groupby(by='CustomerID',as_index=False).agg({'TotalCost':'sum'})\n",
    "monetary_df.columns = ['CustomerID','Monetary']\n",
    "monetary_df.head()"
   ]
  },
  {
   "cell_type": "markdown",
   "metadata": {
    "id": "omG4so638j38"
   },
   "source": [
    "# Create RFM Table"
   ]
  },
  {
   "cell_type": "code",
   "execution_count": 28,
   "metadata": {
    "colab": {
     "base_uri": "https://localhost:8080/",
     "height": 206
    },
    "id": "VXGuw2le5AMm",
    "outputId": "fd0e7bc0-a1cf-44e2-c45d-8799a22ff09d"
   },
   "outputs": [
    {
     "data": {
      "text/html": [
       "<div>\n",
       "<style scoped>\n",
       "    .dataframe tbody tr th:only-of-type {\n",
       "        vertical-align: middle;\n",
       "    }\n",
       "\n",
       "    .dataframe tbody tr th {\n",
       "        vertical-align: top;\n",
       "    }\n",
       "\n",
       "    .dataframe thead th {\n",
       "        text-align: right;\n",
       "    }\n",
       "</style>\n",
       "<table border=\"1\" class=\"dataframe\">\n",
       "  <thead>\n",
       "    <tr style=\"text-align: right;\">\n",
       "      <th></th>\n",
       "      <th>CustomerID</th>\n",
       "      <th>Recency</th>\n",
       "      <th>Frequency</th>\n",
       "    </tr>\n",
       "  </thead>\n",
       "  <tbody>\n",
       "    <tr>\n",
       "      <th>0</th>\n",
       "      <td>12346.0</td>\n",
       "      <td>325</td>\n",
       "      <td>1</td>\n",
       "    </tr>\n",
       "    <tr>\n",
       "      <th>1</th>\n",
       "      <td>12747.0</td>\n",
       "      <td>2</td>\n",
       "      <td>10</td>\n",
       "    </tr>\n",
       "    <tr>\n",
       "      <th>2</th>\n",
       "      <td>12748.0</td>\n",
       "      <td>0</td>\n",
       "      <td>196</td>\n",
       "    </tr>\n",
       "    <tr>\n",
       "      <th>3</th>\n",
       "      <td>12749.0</td>\n",
       "      <td>3</td>\n",
       "      <td>5</td>\n",
       "    </tr>\n",
       "    <tr>\n",
       "      <th>4</th>\n",
       "      <td>12820.0</td>\n",
       "      <td>3</td>\n",
       "      <td>4</td>\n",
       "    </tr>\n",
       "  </tbody>\n",
       "</table>\n",
       "</div>"
      ],
      "text/plain": [
       "   CustomerID  Recency  Frequency\n",
       "0     12346.0      325          1\n",
       "1     12747.0        2         10\n",
       "2     12748.0        0        196\n",
       "3     12749.0        3          5\n",
       "4     12820.0        3          4"
      ]
     },
     "execution_count": 28,
     "metadata": {},
     "output_type": "execute_result"
    }
   ],
   "source": [
    "# Merge the dataFrame\n",
    "temp_df = recency_df.merge(frequency_df,on = 'CustomerID')\n",
    "temp_df.head()"
   ]
  },
  {
   "cell_type": "code",
   "execution_count": 29,
   "metadata": {
    "colab": {
     "base_uri": "https://localhost:8080/",
     "height": 206
    },
    "id": "O4sXDZ1Q89mK",
    "outputId": "62344c66-e374-45b5-c553-deac9f32e96a"
   },
   "outputs": [
    {
     "data": {
      "text/html": [
       "<div>\n",
       "<style scoped>\n",
       "    .dataframe tbody tr th:only-of-type {\n",
       "        vertical-align: middle;\n",
       "    }\n",
       "\n",
       "    .dataframe tbody tr th {\n",
       "        vertical-align: top;\n",
       "    }\n",
       "\n",
       "    .dataframe thead th {\n",
       "        text-align: right;\n",
       "    }\n",
       "</style>\n",
       "<table border=\"1\" class=\"dataframe\">\n",
       "  <thead>\n",
       "    <tr style=\"text-align: right;\">\n",
       "      <th></th>\n",
       "      <th>CustomerID</th>\n",
       "      <th>Recency</th>\n",
       "      <th>Frequency</th>\n",
       "      <th>Monetary</th>\n",
       "    </tr>\n",
       "  </thead>\n",
       "  <tbody>\n",
       "    <tr>\n",
       "      <th>0</th>\n",
       "      <td>12346.0</td>\n",
       "      <td>325</td>\n",
       "      <td>1</td>\n",
       "      <td>77183.60</td>\n",
       "    </tr>\n",
       "    <tr>\n",
       "      <th>1</th>\n",
       "      <td>12747.0</td>\n",
       "      <td>2</td>\n",
       "      <td>10</td>\n",
       "      <td>658.89</td>\n",
       "    </tr>\n",
       "    <tr>\n",
       "      <th>2</th>\n",
       "      <td>12748.0</td>\n",
       "      <td>0</td>\n",
       "      <td>196</td>\n",
       "      <td>3739.23</td>\n",
       "    </tr>\n",
       "    <tr>\n",
       "      <th>3</th>\n",
       "      <td>12749.0</td>\n",
       "      <td>3</td>\n",
       "      <td>5</td>\n",
       "      <td>98.35</td>\n",
       "    </tr>\n",
       "    <tr>\n",
       "      <th>4</th>\n",
       "      <td>12820.0</td>\n",
       "      <td>3</td>\n",
       "      <td>4</td>\n",
       "      <td>58.20</td>\n",
       "    </tr>\n",
       "  </tbody>\n",
       "</table>\n",
       "</div>"
      ],
      "text/plain": [
       "   CustomerID  Recency  Frequency  Monetary\n",
       "0     12346.0      325          1  77183.60\n",
       "1     12747.0        2         10    658.89\n",
       "2     12748.0        0        196   3739.23\n",
       "3     12749.0        3          5     98.35\n",
       "4     12820.0        3          4     58.20"
      ]
     },
     "execution_count": 29,
     "metadata": {},
     "output_type": "execute_result"
    }
   ],
   "source": [
    "#merge monetary in RFM table\n",
    "rfm_df = temp_df.merge(monetary_df,on = 'CustomerID')\n",
    "rfm_df.head()"
   ]
  },
  {
   "cell_type": "code",
   "execution_count": 30,
   "metadata": {
    "colab": {
     "base_uri": "https://localhost:8080/",
     "height": 238
    },
    "id": "VCjtbpVJ9m6b",
    "outputId": "bcc27c33-5827-440e-f243-22b23b20b159"
   },
   "outputs": [
    {
     "data": {
      "text/html": [
       "<div>\n",
       "<style scoped>\n",
       "    .dataframe tbody tr th:only-of-type {\n",
       "        vertical-align: middle;\n",
       "    }\n",
       "\n",
       "    .dataframe tbody tr th {\n",
       "        vertical-align: top;\n",
       "    }\n",
       "\n",
       "    .dataframe thead th {\n",
       "        text-align: right;\n",
       "    }\n",
       "</style>\n",
       "<table border=\"1\" class=\"dataframe\">\n",
       "  <thead>\n",
       "    <tr style=\"text-align: right;\">\n",
       "      <th></th>\n",
       "      <th>Recency</th>\n",
       "      <th>Frequency</th>\n",
       "      <th>Monetary</th>\n",
       "    </tr>\n",
       "    <tr>\n",
       "      <th>CustomerID</th>\n",
       "      <th></th>\n",
       "      <th></th>\n",
       "      <th></th>\n",
       "    </tr>\n",
       "  </thead>\n",
       "  <tbody>\n",
       "    <tr>\n",
       "      <th>12346.0</th>\n",
       "      <td>325</td>\n",
       "      <td>1</td>\n",
       "      <td>77183.60</td>\n",
       "    </tr>\n",
       "    <tr>\n",
       "      <th>12747.0</th>\n",
       "      <td>2</td>\n",
       "      <td>10</td>\n",
       "      <td>658.89</td>\n",
       "    </tr>\n",
       "    <tr>\n",
       "      <th>12748.0</th>\n",
       "      <td>0</td>\n",
       "      <td>196</td>\n",
       "      <td>3739.23</td>\n",
       "    </tr>\n",
       "    <tr>\n",
       "      <th>12749.0</th>\n",
       "      <td>3</td>\n",
       "      <td>5</td>\n",
       "      <td>98.35</td>\n",
       "    </tr>\n",
       "    <tr>\n",
       "      <th>12820.0</th>\n",
       "      <td>3</td>\n",
       "      <td>4</td>\n",
       "      <td>58.20</td>\n",
       "    </tr>\n",
       "  </tbody>\n",
       "</table>\n",
       "</div>"
      ],
      "text/plain": [
       "            Recency  Frequency  Monetary\n",
       "CustomerID                              \n",
       "12346.0         325          1  77183.60\n",
       "12747.0           2         10    658.89\n",
       "12748.0           0        196   3739.23\n",
       "12749.0           3          5     98.35\n",
       "12820.0           3          4     58.20"
      ]
     },
     "execution_count": 30,
     "metadata": {},
     "output_type": "execute_result"
    }
   ],
   "source": [
    "rfm_df.set_index('CustomerID',inplace = True)\n",
    "rfm_df.head()"
   ]
  },
  {
   "cell_type": "markdown",
   "metadata": {
    "id": "racw83WX-QkM"
   },
   "source": [
    "# RFM table correctness verification"
   ]
  },
  {
   "cell_type": "code",
   "execution_count": 31,
   "metadata": {
    "colab": {
     "base_uri": "https://localhost:8080/",
     "height": 81
    },
    "id": "9c7e625m9__O",
    "outputId": "b841d208-e24e-497c-a27b-ff91921ece8e"
   },
   "outputs": [
    {
     "data": {
      "text/html": [
       "<div>\n",
       "<style scoped>\n",
       "    .dataframe tbody tr th:only-of-type {\n",
       "        vertical-align: middle;\n",
       "    }\n",
       "\n",
       "    .dataframe tbody tr th {\n",
       "        vertical-align: top;\n",
       "    }\n",
       "\n",
       "    .dataframe thead th {\n",
       "        text-align: right;\n",
       "    }\n",
       "</style>\n",
       "<table border=\"1\" class=\"dataframe\">\n",
       "  <thead>\n",
       "    <tr style=\"text-align: right;\">\n",
       "      <th></th>\n",
       "      <th>InvoiceNo</th>\n",
       "      <th>StockCode</th>\n",
       "      <th>Description</th>\n",
       "      <th>Quantity</th>\n",
       "      <th>InvoiceDate</th>\n",
       "      <th>UnitPrice</th>\n",
       "      <th>CustomerID</th>\n",
       "      <th>Country</th>\n",
       "      <th>date</th>\n",
       "      <th>TotalCost</th>\n",
       "    </tr>\n",
       "  </thead>\n",
       "  <tbody>\n",
       "    <tr>\n",
       "      <th>61619</th>\n",
       "      <td>541431</td>\n",
       "      <td>23166</td>\n",
       "      <td>MEDIUM CERAMIC TOP STORAGE JAR</td>\n",
       "      <td>74215</td>\n",
       "      <td>2011-01-18 10:01:00</td>\n",
       "      <td>1.04</td>\n",
       "      <td>12346.0</td>\n",
       "      <td>United Kingdom</td>\n",
       "      <td>2011-01-18</td>\n",
       "      <td>77183.6</td>\n",
       "    </tr>\n",
       "  </tbody>\n",
       "</table>\n",
       "</div>"
      ],
      "text/plain": [
       "      InvoiceNo StockCode                     Description  Quantity  \\\n",
       "61619    541431     23166  MEDIUM CERAMIC TOP STORAGE JAR     74215   \n",
       "\n",
       "              InvoiceDate  UnitPrice  CustomerID         Country        date  \\\n",
       "61619 2011-01-18 10:01:00       1.04     12346.0  United Kingdom  2011-01-18   \n",
       "\n",
       "       TotalCost  \n",
       "61619    77183.6  "
      ]
     },
     "execution_count": 31,
     "metadata": {},
     "output_type": "execute_result"
    }
   ],
   "source": [
    "retail_uk[retail_uk['CustomerID']==12346.0]"
   ]
  },
  {
   "cell_type": "code",
   "execution_count": 32,
   "metadata": {
    "colab": {
     "base_uri": "https://localhost:8080/"
    },
    "id": "JGMRz334-m1i",
    "outputId": "cfc1cbbd-9224-49c6-b7ad-aa9a536564f3"
   },
   "outputs": [
    {
     "data": {
      "text/plain": [
       "325"
      ]
     },
     "execution_count": 32,
     "metadata": {},
     "output_type": "execute_result"
    }
   ],
   "source": [
    "(now - dt.date(2011,1,18)).days"
   ]
  },
  {
   "cell_type": "markdown",
   "metadata": {
    "id": "nCrgr0tZ_IyI"
   },
   "source": [
    "<center><h1><em>Customer Segmentation using RFM</em></h1></center>"
   ]
  },
  {
   "cell_type": "markdown",
   "metadata": {
    "id": "I2LbWqEKBiaR"
   },
   "source": [
    "Before moving to customer segments, Let's see the application of Pareto Principle – commonly referred to as the 80-20 rule on our dataset by applying it to our RFM variables.\n",
    "\n",
    "Pareto’s rule says 80% of the results come from 20% of the causes.\n",
    "\n",
    "Similarly, 20% customers contribute to 80% of your total revenue. Let's verify that because that will help us know which customers to focus on when marketing new products."
   ]
  },
  {
   "cell_type": "markdown",
   "metadata": {
    "id": "0FyClUwqBm6L"
   },
   "source": [
    "# Applying 80-20 Rule"
   ]
  },
  {
   "cell_type": "code",
   "execution_count": 33,
   "metadata": {
    "colab": {
     "base_uri": "https://localhost:8080/"
    },
    "id": "gE9H0FJpClKh",
    "outputId": "e24f627e-136d-4515-cd28-ec5781338c06"
   },
   "outputs": [
    {
     "data": {
      "text/plain": [
       "Index(['Recency', 'Frequency', 'Monetary'], dtype='object')"
      ]
     },
     "execution_count": 33,
     "metadata": {},
     "output_type": "execute_result"
    }
   ],
   "source": [
    "rfm_df.columns"
   ]
  },
  {
   "cell_type": "code",
   "execution_count": 34,
   "metadata": {
    "colab": {
     "base_uri": "https://localhost:8080/"
    },
    "id": "2om5imLx-2zJ",
    "outputId": "fd8f5eda-1730-44a3-ec89-37b9aab82e49"
   },
   "outputs": [
    {
     "name": "stdout",
     "output_type": "stream",
     "text": [
      "80% of total revenue : 890679.536\n"
     ]
    }
   ],
   "source": [
    "# Get 80% of revenue\n",
    "pareto_cutoff = rfm_df['Monetary'].sum()*0.80\n",
    "print(\"80% of total revenue :\",pareto_cutoff)"
   ]
  },
  {
   "cell_type": "code",
   "execution_count": 37,
   "metadata": {
    "id": "SZX3kO22CevG"
   },
   "outputs": [
    {
     "data": {
      "text/html": [
       "<div>\n",
       "<style scoped>\n",
       "    .dataframe tbody tr th:only-of-type {\n",
       "        vertical-align: middle;\n",
       "    }\n",
       "\n",
       "    .dataframe tbody tr th {\n",
       "        vertical-align: top;\n",
       "    }\n",
       "\n",
       "    .dataframe thead th {\n",
       "        text-align: right;\n",
       "    }\n",
       "</style>\n",
       "<table border=\"1\" class=\"dataframe\">\n",
       "  <thead>\n",
       "    <tr style=\"text-align: right;\">\n",
       "      <th></th>\n",
       "      <th>Recency</th>\n",
       "      <th>Frequency</th>\n",
       "      <th>Monetary</th>\n",
       "      <th>Rank</th>\n",
       "    </tr>\n",
       "    <tr>\n",
       "      <th>CustomerID</th>\n",
       "      <th></th>\n",
       "      <th></th>\n",
       "      <th></th>\n",
       "      <th></th>\n",
       "    </tr>\n",
       "  </thead>\n",
       "  <tbody>\n",
       "    <tr>\n",
       "      <th>12346.0</th>\n",
       "      <td>325</td>\n",
       "      <td>1</td>\n",
       "      <td>77183.60</td>\n",
       "      <td>2.0</td>\n",
       "    </tr>\n",
       "    <tr>\n",
       "      <th>12747.0</th>\n",
       "      <td>2</td>\n",
       "      <td>10</td>\n",
       "      <td>658.89</td>\n",
       "      <td>183.0</td>\n",
       "    </tr>\n",
       "    <tr>\n",
       "      <th>12748.0</th>\n",
       "      <td>0</td>\n",
       "      <td>196</td>\n",
       "      <td>3739.23</td>\n",
       "      <td>34.0</td>\n",
       "    </tr>\n",
       "    <tr>\n",
       "      <th>12749.0</th>\n",
       "      <td>3</td>\n",
       "      <td>5</td>\n",
       "      <td>98.35</td>\n",
       "      <td>1140.0</td>\n",
       "    </tr>\n",
       "    <tr>\n",
       "      <th>12820.0</th>\n",
       "      <td>3</td>\n",
       "      <td>4</td>\n",
       "      <td>58.20</td>\n",
       "      <td>1665.5</td>\n",
       "    </tr>\n",
       "  </tbody>\n",
       "</table>\n",
       "</div>"
      ],
      "text/plain": [
       "            Recency  Frequency  Monetary    Rank\n",
       "CustomerID                                      \n",
       "12346.0         325          1  77183.60     2.0\n",
       "12747.0           2         10    658.89   183.0\n",
       "12748.0           0        196   3739.23    34.0\n",
       "12749.0           3          5     98.35  1140.0\n",
       "12820.0           3          4     58.20  1665.5"
      ]
     },
     "execution_count": 37,
     "metadata": {},
     "output_type": "execute_result"
    }
   ],
   "source": [
    "# Create a new column that is rank of the value of the coverage in ascending order\n",
    "customer_rank = rfm_df\n",
    "customer_rank['Rank'] = customer_rank['Monetary'].rank(ascending = 0)\n",
    "customer_rank.head()"
   ]
  },
  {
   "cell_type": "markdown",
   "metadata": {},
   "source": [
    "# Top Rankers"
   ]
  },
  {
   "cell_type": "code",
   "execution_count": 38,
   "metadata": {},
   "outputs": [
    {
     "data": {
      "text/html": [
       "<div>\n",
       "<style scoped>\n",
       "    .dataframe tbody tr th:only-of-type {\n",
       "        vertical-align: middle;\n",
       "    }\n",
       "\n",
       "    .dataframe tbody tr th {\n",
       "        vertical-align: top;\n",
       "    }\n",
       "\n",
       "    .dataframe thead th {\n",
       "        text-align: right;\n",
       "    }\n",
       "</style>\n",
       "<table border=\"1\" class=\"dataframe\">\n",
       "  <thead>\n",
       "    <tr style=\"text-align: right;\">\n",
       "      <th></th>\n",
       "      <th>Recency</th>\n",
       "      <th>Frequency</th>\n",
       "      <th>Monetary</th>\n",
       "      <th>Rank</th>\n",
       "    </tr>\n",
       "    <tr>\n",
       "      <th>CustomerID</th>\n",
       "      <th></th>\n",
       "      <th></th>\n",
       "      <th></th>\n",
       "      <th></th>\n",
       "    </tr>\n",
       "  </thead>\n",
       "  <tbody>\n",
       "    <tr>\n",
       "      <th>16446.0</th>\n",
       "      <td>0</td>\n",
       "      <td>2</td>\n",
       "      <td>168471.25</td>\n",
       "      <td>1.0</td>\n",
       "    </tr>\n",
       "    <tr>\n",
       "      <th>12346.0</th>\n",
       "      <td>325</td>\n",
       "      <td>1</td>\n",
       "      <td>77183.60</td>\n",
       "      <td>2.0</td>\n",
       "    </tr>\n",
       "    <tr>\n",
       "      <th>15098.0</th>\n",
       "      <td>182</td>\n",
       "      <td>3</td>\n",
       "      <td>39916.50</td>\n",
       "      <td>3.0</td>\n",
       "    </tr>\n",
       "    <tr>\n",
       "      <th>18102.0</th>\n",
       "      <td>0</td>\n",
       "      <td>57</td>\n",
       "      <td>39646.45</td>\n",
       "      <td>4.0</td>\n",
       "    </tr>\n",
       "    <tr>\n",
       "      <th>17949.0</th>\n",
       "      <td>1</td>\n",
       "      <td>44</td>\n",
       "      <td>28685.69</td>\n",
       "      <td>5.0</td>\n",
       "    </tr>\n",
       "    <tr>\n",
       "      <th>...</th>\n",
       "      <td>...</td>\n",
       "      <td>...</td>\n",
       "      <td>...</td>\n",
       "      <td>...</td>\n",
       "    </tr>\n",
       "    <tr>\n",
       "      <th>15503.0</th>\n",
       "      <td>362</td>\n",
       "      <td>1</td>\n",
       "      <td>0.42</td>\n",
       "      <td>3859.5</td>\n",
       "    </tr>\n",
       "    <tr>\n",
       "      <th>15645.0</th>\n",
       "      <td>18</td>\n",
       "      <td>1</td>\n",
       "      <td>0.42</td>\n",
       "      <td>3859.5</td>\n",
       "    </tr>\n",
       "    <tr>\n",
       "      <th>17914.0</th>\n",
       "      <td>3</td>\n",
       "      <td>1</td>\n",
       "      <td>0.39</td>\n",
       "      <td>3861.5</td>\n",
       "    </tr>\n",
       "    <tr>\n",
       "      <th>13271.0</th>\n",
       "      <td>37</td>\n",
       "      <td>1</td>\n",
       "      <td>0.39</td>\n",
       "      <td>3861.5</td>\n",
       "    </tr>\n",
       "    <tr>\n",
       "      <th>13256.0</th>\n",
       "      <td>14</td>\n",
       "      <td>1</td>\n",
       "      <td>0.00</td>\n",
       "      <td>3863.0</td>\n",
       "    </tr>\n",
       "  </tbody>\n",
       "</table>\n",
       "<p>3863 rows × 4 columns</p>\n",
       "</div>"
      ],
      "text/plain": [
       "            Recency  Frequency   Monetary    Rank\n",
       "CustomerID                                       \n",
       "16446.0           0          2  168471.25     1.0\n",
       "12346.0         325          1   77183.60     2.0\n",
       "15098.0         182          3   39916.50     3.0\n",
       "18102.0           0         57   39646.45     4.0\n",
       "17949.0           1         44   28685.69     5.0\n",
       "...             ...        ...        ...     ...\n",
       "15503.0         362          1       0.42  3859.5\n",
       "15645.0          18          1       0.42  3859.5\n",
       "17914.0           3          1       0.39  3861.5\n",
       "13271.0          37          1       0.39  3861.5\n",
       "13256.0          14          1       0.00  3863.0\n",
       "\n",
       "[3863 rows x 4 columns]"
      ]
     },
     "execution_count": 38,
     "metadata": {},
     "output_type": "execute_result"
    }
   ],
   "source": [
    "customer_rank.sort_values(by =['Rank'],ascending = True)"
   ]
  },
  {
   "cell_type": "markdown",
   "metadata": {},
   "source": [
    "# Get 20% of the customer"
   ]
  },
  {
   "cell_type": "code",
   "execution_count": 40,
   "metadata": {},
   "outputs": [
    {
     "data": {
      "text/plain": [
       "772.6"
      ]
     },
     "execution_count": 40,
     "metadata": {},
     "output_type": "execute_result"
    }
   ],
   "source": [
    "top_20_cutoff = 3863*0.20\n",
    "top_20_cutoff"
   ]
  },
  {
   "cell_type": "code",
   "execution_count": 41,
   "metadata": {},
   "outputs": [
    {
     "data": {
      "text/plain": [
       "976683.3499999999"
      ]
     },
     "execution_count": 41,
     "metadata": {},
     "output_type": "execute_result"
    }
   ],
   "source": [
    "# sum the monetary values over the customer with rank <=773\n",
    "revenueByTop20 = customer_rank[customer_rank['Rank']<=772]['Monetary'].sum()\n",
    "revenueByTop20"
   ]
  },
  {
   "cell_type": "markdown",
   "metadata": {},
   "source": [
    "* 80% of total revenue : 890679.536\n",
    "* but in actual revenue should be 976683\n",
    "* Hence, the 80% of total revenue is not achieved by the 20% of TOP customers but approximately, it does, because they are less than our 20% TOP customers who achieve it. It would be interesting to study this group of customers because they are those who make our most revenue."
   ]
  },
  {
   "cell_type": "markdown",
   "metadata": {},
   "source": [
    "# applying RFM score formula"
   ]
  },
  {
   "cell_type": "markdown",
   "metadata": {},
   "source": [
    "The simplest way to create customers segments from RFM Model is to use Quartiles. We assign a score from 1 to 4 to Recency, Frequency and Monetary. Four is the best/highest value, and one is the lowest/worst value. A final RFM score is calculated simply by combining individual RFM score numbers.\n",
    "\n",
    "Note: Quintiles (score from 1-5) offer better granularity, in case the business needs that but it will be more challenging to create segments since we will have 555 possible combinations. So, we will use quartiles."
   ]
  },
  {
   "cell_type": "markdown",
   "metadata": {},
   "source": [
    "DataFrame.quantile(q=0.5, axis=0, numeric_only=True, interpolation='linear')"
   ]
  },
  {
   "cell_type": "code",
   "execution_count": 45,
   "metadata": {},
   "outputs": [
    {
     "data": {
      "text/html": [
       "<div>\n",
       "<style scoped>\n",
       "    .dataframe tbody tr th:only-of-type {\n",
       "        vertical-align: middle;\n",
       "    }\n",
       "\n",
       "    .dataframe tbody tr th {\n",
       "        vertical-align: top;\n",
       "    }\n",
       "\n",
       "    .dataframe thead th {\n",
       "        text-align: right;\n",
       "    }\n",
       "</style>\n",
       "<table border=\"1\" class=\"dataframe\">\n",
       "  <thead>\n",
       "    <tr style=\"text-align: right;\">\n",
       "      <th></th>\n",
       "      <th>Recency</th>\n",
       "      <th>Frequency</th>\n",
       "      <th>Monetary</th>\n",
       "      <th>Rank</th>\n",
       "    </tr>\n",
       "  </thead>\n",
       "  <tbody>\n",
       "    <tr>\n",
       "      <th>0.25</th>\n",
       "      <td>17.0</td>\n",
       "      <td>1.0</td>\n",
       "      <td>17.4</td>\n",
       "      <td>966.5</td>\n",
       "    </tr>\n",
       "    <tr>\n",
       "      <th>0.50</th>\n",
       "      <td>49.0</td>\n",
       "      <td>2.0</td>\n",
       "      <td>45.0</td>\n",
       "      <td>1930.5</td>\n",
       "    </tr>\n",
       "    <tr>\n",
       "      <th>0.75</th>\n",
       "      <td>134.0</td>\n",
       "      <td>5.0</td>\n",
       "      <td>121.6</td>\n",
       "      <td>2898.0</td>\n",
       "    </tr>\n",
       "  </tbody>\n",
       "</table>\n",
       "</div>"
      ],
      "text/plain": [
       "      Recency  Frequency  Monetary    Rank\n",
       "0.25     17.0        1.0      17.4   966.5\n",
       "0.50     49.0        2.0      45.0  1930.5\n",
       "0.75    134.0        5.0     121.6  2898.0"
      ]
     },
     "execution_count": 45,
     "metadata": {},
     "output_type": "execute_result"
    }
   ],
   "source": [
    "quantiles = rfm_df.quantile(q= [0.25,0.5,0.75],numeric_only = True)\n",
    "quantiles"
   ]
  },
  {
   "cell_type": "code",
   "execution_count": 47,
   "metadata": {},
   "outputs": [
    {
     "data": {
      "text/plain": [
       "{'Recency': {0.25: 17.0, 0.5: 49.0, 0.75: 134.0},\n",
       " 'Frequency': {0.25: 1.0, 0.5: 2.0, 0.75: 5.0},\n",
       " 'Monetary': {0.25: 17.4, 0.5: 45.0, 0.75: 121.6},\n",
       " 'Rank': {0.25: 966.5, 0.5: 1930.5, 0.75: 2898.0}}"
      ]
     },
     "execution_count": 47,
     "metadata": {},
     "output_type": "execute_result"
    }
   ],
   "source": [
    "# convert data Frame to dict\n",
    "quantiles.to_dict()"
   ]
  },
  {
   "cell_type": "markdown",
   "metadata": {},
   "source": [
    "# Create RFM segmentation table"
   ]
  },
  {
   "cell_type": "markdown",
   "metadata": {},
   "source": [
    "We will create two segmentation classes since, high recency is bad, while high frequency and monetary value is good."
   ]
  },
  {
   "cell_type": "code",
   "execution_count": 56,
   "metadata": {},
   "outputs": [],
   "source": [
    "# Arguments (x = value, p = recency, monetary_value, frequency, d = quartiles dict)\n",
    "def RScore(x,p,d):\n",
    "    if x <= d[p][0.25]:\n",
    "        return 4\n",
    "    elif x <= d[p][0.50]:\n",
    "        return 3\n",
    "    elif x <= d[p][0.75]: \n",
    "        return 2\n",
    "    else:\n",
    "        return 1\n",
    "# Arguments (x = value, p = recency, monetary_value, frequency, k = quartiles dict)\n",
    "def FMScore(x,p,d):\n",
    "    if x <= d[p][0.25]:\n",
    "        return 1\n",
    "    elif x <= d[p][0.50]:\n",
    "        return 2\n",
    "    elif x <= d[p][0.75]: \n",
    "        return 3\n",
    "    else:\n",
    "        return 4"
   ]
  },
  {
   "cell_type": "code",
   "execution_count": 54,
   "metadata": {},
   "outputs": [],
   "source": [
    "# Create rfm segmentation table\n",
    "rfm_seg =rfm_df\n",
    "rfm_seg['R_Quartile'] = rfm_seg['Recency'].apply(RScore,args=('Recency',quantiles))\n",
    "rfm_seg['F_Quartile'] = rfm_seg['Frequency'].apply(FMScore,args=('Frequency',quantiles))\n",
    "rfm_seg['M_Quartile'] = rfm_seg['Monetary'].apply(FMScore,args=('Monetary',quantiles))"
   ]
  },
  {
   "cell_type": "code",
   "execution_count": 55,
   "metadata": {},
   "outputs": [
    {
     "data": {
      "text/html": [
       "<div>\n",
       "<style scoped>\n",
       "    .dataframe tbody tr th:only-of-type {\n",
       "        vertical-align: middle;\n",
       "    }\n",
       "\n",
       "    .dataframe tbody tr th {\n",
       "        vertical-align: top;\n",
       "    }\n",
       "\n",
       "    .dataframe thead th {\n",
       "        text-align: right;\n",
       "    }\n",
       "</style>\n",
       "<table border=\"1\" class=\"dataframe\">\n",
       "  <thead>\n",
       "    <tr style=\"text-align: right;\">\n",
       "      <th></th>\n",
       "      <th>Recency</th>\n",
       "      <th>Frequency</th>\n",
       "      <th>Monetary</th>\n",
       "      <th>Rank</th>\n",
       "      <th>R_Quartile</th>\n",
       "      <th>F_Quartile</th>\n",
       "      <th>M_Quartile</th>\n",
       "    </tr>\n",
       "    <tr>\n",
       "      <th>CustomerID</th>\n",
       "      <th></th>\n",
       "      <th></th>\n",
       "      <th></th>\n",
       "      <th></th>\n",
       "      <th></th>\n",
       "      <th></th>\n",
       "      <th></th>\n",
       "    </tr>\n",
       "  </thead>\n",
       "  <tbody>\n",
       "    <tr>\n",
       "      <th>12346.0</th>\n",
       "      <td>325</td>\n",
       "      <td>1</td>\n",
       "      <td>77183.60</td>\n",
       "      <td>2.0</td>\n",
       "      <td>1</td>\n",
       "      <td>1</td>\n",
       "      <td>4</td>\n",
       "    </tr>\n",
       "    <tr>\n",
       "      <th>12747.0</th>\n",
       "      <td>2</td>\n",
       "      <td>10</td>\n",
       "      <td>658.89</td>\n",
       "      <td>183.0</td>\n",
       "      <td>4</td>\n",
       "      <td>4</td>\n",
       "      <td>4</td>\n",
       "    </tr>\n",
       "    <tr>\n",
       "      <th>12748.0</th>\n",
       "      <td>0</td>\n",
       "      <td>196</td>\n",
       "      <td>3739.23</td>\n",
       "      <td>34.0</td>\n",
       "      <td>4</td>\n",
       "      <td>4</td>\n",
       "      <td>4</td>\n",
       "    </tr>\n",
       "    <tr>\n",
       "      <th>12749.0</th>\n",
       "      <td>3</td>\n",
       "      <td>5</td>\n",
       "      <td>98.35</td>\n",
       "      <td>1140.0</td>\n",
       "      <td>4</td>\n",
       "      <td>3</td>\n",
       "      <td>3</td>\n",
       "    </tr>\n",
       "    <tr>\n",
       "      <th>12820.0</th>\n",
       "      <td>3</td>\n",
       "      <td>4</td>\n",
       "      <td>58.20</td>\n",
       "      <td>1665.5</td>\n",
       "      <td>4</td>\n",
       "      <td>3</td>\n",
       "      <td>3</td>\n",
       "    </tr>\n",
       "  </tbody>\n",
       "</table>\n",
       "</div>"
      ],
      "text/plain": [
       "            Recency  Frequency  Monetary    Rank  R_Quartile  F_Quartile  \\\n",
       "CustomerID                                                                 \n",
       "12346.0         325          1  77183.60     2.0           1           1   \n",
       "12747.0           2         10    658.89   183.0           4           4   \n",
       "12748.0           0        196   3739.23    34.0           4           4   \n",
       "12749.0           3          5     98.35  1140.0           4           3   \n",
       "12820.0           3          4     58.20  1665.5           4           3   \n",
       "\n",
       "            M_Quartile  \n",
       "CustomerID              \n",
       "12346.0              4  \n",
       "12747.0              4  \n",
       "12748.0              4  \n",
       "12749.0              3  \n",
       "12820.0              3  "
      ]
     },
     "execution_count": 55,
     "metadata": {},
     "output_type": "execute_result"
    }
   ],
   "source": [
    "rfm_seg.head()"
   ]
  },
  {
   "cell_type": "markdown",
   "metadata": {},
   "source": [
    "First, we need to combine the scores (R_Quartile, F_Quartile,M_Quartile) together."
   ]
  },
  {
   "cell_type": "code",
   "execution_count": 58,
   "metadata": {},
   "outputs": [
    {
     "data": {
      "text/html": [
       "<div>\n",
       "<style scoped>\n",
       "    .dataframe tbody tr th:only-of-type {\n",
       "        vertical-align: middle;\n",
       "    }\n",
       "\n",
       "    .dataframe tbody tr th {\n",
       "        vertical-align: top;\n",
       "    }\n",
       "\n",
       "    .dataframe thead th {\n",
       "        text-align: right;\n",
       "    }\n",
       "</style>\n",
       "<table border=\"1\" class=\"dataframe\">\n",
       "  <thead>\n",
       "    <tr style=\"text-align: right;\">\n",
       "      <th></th>\n",
       "      <th>Recency</th>\n",
       "      <th>Frequency</th>\n",
       "      <th>Monetary</th>\n",
       "      <th>Rank</th>\n",
       "      <th>R_Quartile</th>\n",
       "      <th>F_Quartile</th>\n",
       "      <th>M_Quartile</th>\n",
       "      <th>RFMScore</th>\n",
       "    </tr>\n",
       "    <tr>\n",
       "      <th>CustomerID</th>\n",
       "      <th></th>\n",
       "      <th></th>\n",
       "      <th></th>\n",
       "      <th></th>\n",
       "      <th></th>\n",
       "      <th></th>\n",
       "      <th></th>\n",
       "      <th></th>\n",
       "    </tr>\n",
       "  </thead>\n",
       "  <tbody>\n",
       "    <tr>\n",
       "      <th>12346.0</th>\n",
       "      <td>325</td>\n",
       "      <td>1</td>\n",
       "      <td>77183.60</td>\n",
       "      <td>2.0</td>\n",
       "      <td>1</td>\n",
       "      <td>1</td>\n",
       "      <td>4</td>\n",
       "      <td>114</td>\n",
       "    </tr>\n",
       "    <tr>\n",
       "      <th>12747.0</th>\n",
       "      <td>2</td>\n",
       "      <td>10</td>\n",
       "      <td>658.89</td>\n",
       "      <td>183.0</td>\n",
       "      <td>4</td>\n",
       "      <td>4</td>\n",
       "      <td>4</td>\n",
       "      <td>444</td>\n",
       "    </tr>\n",
       "    <tr>\n",
       "      <th>12748.0</th>\n",
       "      <td>0</td>\n",
       "      <td>196</td>\n",
       "      <td>3739.23</td>\n",
       "      <td>34.0</td>\n",
       "      <td>4</td>\n",
       "      <td>4</td>\n",
       "      <td>4</td>\n",
       "      <td>444</td>\n",
       "    </tr>\n",
       "    <tr>\n",
       "      <th>12749.0</th>\n",
       "      <td>3</td>\n",
       "      <td>5</td>\n",
       "      <td>98.35</td>\n",
       "      <td>1140.0</td>\n",
       "      <td>4</td>\n",
       "      <td>3</td>\n",
       "      <td>3</td>\n",
       "      <td>433</td>\n",
       "    </tr>\n",
       "    <tr>\n",
       "      <th>12820.0</th>\n",
       "      <td>3</td>\n",
       "      <td>4</td>\n",
       "      <td>58.20</td>\n",
       "      <td>1665.5</td>\n",
       "      <td>4</td>\n",
       "      <td>3</td>\n",
       "      <td>3</td>\n",
       "      <td>433</td>\n",
       "    </tr>\n",
       "  </tbody>\n",
       "</table>\n",
       "</div>"
      ],
      "text/plain": [
       "            Recency  Frequency  Monetary    Rank  R_Quartile  F_Quartile  \\\n",
       "CustomerID                                                                 \n",
       "12346.0         325          1  77183.60     2.0           1           1   \n",
       "12747.0           2         10    658.89   183.0           4           4   \n",
       "12748.0           0        196   3739.23    34.0           4           4   \n",
       "12749.0           3          5     98.35  1140.0           4           3   \n",
       "12820.0           3          4     58.20  1665.5           4           3   \n",
       "\n",
       "            M_Quartile RFMScore  \n",
       "CustomerID                       \n",
       "12346.0              4      114  \n",
       "12747.0              4      444  \n",
       "12748.0              4      444  \n",
       "12749.0              3      433  \n",
       "12820.0              3      433  "
      ]
     },
     "execution_count": 58,
     "metadata": {},
     "output_type": "execute_result"
    }
   ],
   "source": [
    "rfm_seg['RFMScore'] = rfm_seg.R_Quartile.map(str) \\\n",
    "                            + rfm_seg.F_Quartile.map(str) \\\n",
    "                            + rfm_seg.M_Quartile.map(str)\n",
    "rfm_seg.head()"
   ]
  },
  {
   "cell_type": "markdown",
   "metadata": {},
   "source": [
    "Best Recency score = 4: most recently purchase. Best Frequency score = 4: most quantity purchase. Best Monetary score = 4: spent the most.\n",
    "\n",
    "Let's see who are our **Champions** (best customers)."
   ]
  },
  {
   "cell_type": "code",
   "execution_count": 60,
   "metadata": {},
   "outputs": [
    {
     "data": {
      "text/html": [
       "<div>\n",
       "<style scoped>\n",
       "    .dataframe tbody tr th:only-of-type {\n",
       "        vertical-align: middle;\n",
       "    }\n",
       "\n",
       "    .dataframe tbody tr th {\n",
       "        vertical-align: top;\n",
       "    }\n",
       "\n",
       "    .dataframe thead th {\n",
       "        text-align: right;\n",
       "    }\n",
       "</style>\n",
       "<table border=\"1\" class=\"dataframe\">\n",
       "  <thead>\n",
       "    <tr style=\"text-align: right;\">\n",
       "      <th></th>\n",
       "      <th>Recency</th>\n",
       "      <th>Frequency</th>\n",
       "      <th>Monetary</th>\n",
       "      <th>Rank</th>\n",
       "      <th>R_Quartile</th>\n",
       "      <th>F_Quartile</th>\n",
       "      <th>M_Quartile</th>\n",
       "      <th>RFMScore</th>\n",
       "    </tr>\n",
       "    <tr>\n",
       "      <th>CustomerID</th>\n",
       "      <th></th>\n",
       "      <th></th>\n",
       "      <th></th>\n",
       "      <th></th>\n",
       "      <th></th>\n",
       "      <th></th>\n",
       "      <th></th>\n",
       "      <th></th>\n",
       "    </tr>\n",
       "  </thead>\n",
       "  <tbody>\n",
       "    <tr>\n",
       "      <th>18102.0</th>\n",
       "      <td>0</td>\n",
       "      <td>57</td>\n",
       "      <td>39646.45</td>\n",
       "      <td>4.0</td>\n",
       "      <td>4</td>\n",
       "      <td>4</td>\n",
       "      <td>4</td>\n",
       "      <td>444</td>\n",
       "    </tr>\n",
       "    <tr>\n",
       "      <th>17949.0</th>\n",
       "      <td>1</td>\n",
       "      <td>44</td>\n",
       "      <td>28685.69</td>\n",
       "      <td>5.0</td>\n",
       "      <td>4</td>\n",
       "      <td>4</td>\n",
       "      <td>4</td>\n",
       "      <td>444</td>\n",
       "    </tr>\n",
       "    <tr>\n",
       "      <th>17450.0</th>\n",
       "      <td>8</td>\n",
       "      <td>44</td>\n",
       "      <td>25953.51</td>\n",
       "      <td>6.0</td>\n",
       "      <td>4</td>\n",
       "      <td>4</td>\n",
       "      <td>4</td>\n",
       "      <td>444</td>\n",
       "    </tr>\n",
       "    <tr>\n",
       "      <th>16013.0</th>\n",
       "      <td>3</td>\n",
       "      <td>45</td>\n",
       "      <td>17163.28</td>\n",
       "      <td>8.0</td>\n",
       "      <td>4</td>\n",
       "      <td>4</td>\n",
       "      <td>4</td>\n",
       "      <td>444</td>\n",
       "    </tr>\n",
       "    <tr>\n",
       "      <th>16333.0</th>\n",
       "      <td>7</td>\n",
       "      <td>22</td>\n",
       "      <td>14418.96</td>\n",
       "      <td>9.0</td>\n",
       "      <td>4</td>\n",
       "      <td>4</td>\n",
       "      <td>4</td>\n",
       "      <td>444</td>\n",
       "    </tr>\n",
       "    <tr>\n",
       "      <th>15769.0</th>\n",
       "      <td>7</td>\n",
       "      <td>25</td>\n",
       "      <td>11660.84</td>\n",
       "      <td>11.0</td>\n",
       "      <td>4</td>\n",
       "      <td>4</td>\n",
       "      <td>4</td>\n",
       "      <td>444</td>\n",
       "    </tr>\n",
       "    <tr>\n",
       "      <th>12901.0</th>\n",
       "      <td>8</td>\n",
       "      <td>28</td>\n",
       "      <td>9230.45</td>\n",
       "      <td>12.0</td>\n",
       "      <td>4</td>\n",
       "      <td>4</td>\n",
       "      <td>4</td>\n",
       "      <td>444</td>\n",
       "    </tr>\n",
       "    <tr>\n",
       "      <th>13798.0</th>\n",
       "      <td>1</td>\n",
       "      <td>56</td>\n",
       "      <td>7786.26</td>\n",
       "      <td>13.0</td>\n",
       "      <td>4</td>\n",
       "      <td>4</td>\n",
       "      <td>4</td>\n",
       "      <td>444</td>\n",
       "    </tr>\n",
       "    <tr>\n",
       "      <th>16684.0</th>\n",
       "      <td>4</td>\n",
       "      <td>28</td>\n",
       "      <td>7700.08</td>\n",
       "      <td>14.0</td>\n",
       "      <td>4</td>\n",
       "      <td>4</td>\n",
       "      <td>4</td>\n",
       "      <td>444</td>\n",
       "    </tr>\n",
       "    <tr>\n",
       "      <th>17857.0</th>\n",
       "      <td>4</td>\n",
       "      <td>23</td>\n",
       "      <td>7655.18</td>\n",
       "      <td>15.0</td>\n",
       "      <td>4</td>\n",
       "      <td>4</td>\n",
       "      <td>4</td>\n",
       "      <td>444</td>\n",
       "    </tr>\n",
       "  </tbody>\n",
       "</table>\n",
       "</div>"
      ],
      "text/plain": [
       "            Recency  Frequency  Monetary  Rank  R_Quartile  F_Quartile  \\\n",
       "CustomerID                                                               \n",
       "18102.0           0         57  39646.45   4.0           4           4   \n",
       "17949.0           1         44  28685.69   5.0           4           4   \n",
       "17450.0           8         44  25953.51   6.0           4           4   \n",
       "16013.0           3         45  17163.28   8.0           4           4   \n",
       "16333.0           7         22  14418.96   9.0           4           4   \n",
       "15769.0           7         25  11660.84  11.0           4           4   \n",
       "12901.0           8         28   9230.45  12.0           4           4   \n",
       "13798.0           1         56   7786.26  13.0           4           4   \n",
       "16684.0           4         28   7700.08  14.0           4           4   \n",
       "17857.0           4         23   7655.18  15.0           4           4   \n",
       "\n",
       "            M_Quartile RFMScore  \n",
       "CustomerID                       \n",
       "18102.0              4      444  \n",
       "17949.0              4      444  \n",
       "17450.0              4      444  \n",
       "16013.0              4      444  \n",
       "16333.0              4      444  \n",
       "15769.0              4      444  \n",
       "12901.0              4      444  \n",
       "13798.0              4      444  \n",
       "16684.0              4      444  \n",
       "17857.0              4      444  "
      ]
     },
     "execution_count": 60,
     "metadata": {},
     "output_type": "execute_result"
    }
   ],
   "source": [
    "rfm_seg[rfm_seg['RFMScore']=='444'].sort_values('Monetary', ascending=False).head(10)"
   ]
  },
  {
   "cell_type": "markdown",
   "metadata": {},
   "source": [
    "**How many customers do we have in each segment?**"
   ]
  },
  {
   "cell_type": "code",
   "execution_count": 61,
   "metadata": {},
   "outputs": [
    {
     "name": "stdout",
     "output_type": "stream",
     "text": [
      "Best Customers:  356\n",
      "Loyal Customers:  752\n",
      "Big Spenders:  966\n",
      "Almost Lost:  64\n",
      "Lost Customers:  9\n",
      "Lost Cheap Customers:  353\n"
     ]
    }
   ],
   "source": [
    "print(\"Best Customers: \",len(rfm_seg[rfm_seg['RFMScore']=='444']))\n",
    "print('Loyal Customers: ',len(rfm_seg[rfm_seg['F_Quartile']==4]))\n",
    "print(\"Big Spenders: \",len(rfm_seg[rfm_seg['M_Quartile']==4]))\n",
    "print('Almost Lost: ', len(rfm_seg[rfm_seg['RFMScore']=='244']))\n",
    "print('Lost Customers: ',len(rfm_seg[rfm_seg['RFMScore']=='144']))\n",
    "print('Lost Cheap Customers: ',len(rfm_seg[rfm_seg['RFMScore']=='111']))"
   ]
  },
  {
   "cell_type": "markdown",
   "metadata": {},
   "source": [
    "<h1>Conclusion - perspective from this level of customer segmentation</h1>\n",
    "\n",
    "To gain even further insight into customer behavior, we can dig deeper in the relationship between RFM variables.\n",
    "\n",
    "RFM model can be used in conjunction with certain predictive models like k-means clustering, Logistic Regression and Recommendation to produce better informative results on customer behavior.\n",
    "\n",
    "We will go for k-means since it has been widely used for Market Segmentation and it offers the advantage of being simple to implement, following Andrew Ng who advice in his Machine Learning course, start with a dirty and simple model then move to more complex models because simple implementation helps having a first glance at the data and know where/how to exploit it better."
   ]
  },
  {
   "cell_type": "markdown",
   "metadata": {},
   "source": [
    "<center><h1>THE END</h1></center>"
   ]
  }
 ],
 "metadata": {
  "colab": {
   "collapsed_sections": [],
   "name": "online_retails_k_means(RFM).ipynb",
   "provenance": []
  },
  "kernelspec": {
   "display_name": "Python 3",
   "language": "python",
   "name": "python3"
  },
  "language_info": {
   "codemirror_mode": {
    "name": "ipython",
    "version": 3
   },
   "file_extension": ".py",
   "mimetype": "text/x-python",
   "name": "python",
   "nbconvert_exporter": "python",
   "pygments_lexer": "ipython3",
   "version": "3.8.5"
  }
 },
 "nbformat": 4,
 "nbformat_minor": 1
}
